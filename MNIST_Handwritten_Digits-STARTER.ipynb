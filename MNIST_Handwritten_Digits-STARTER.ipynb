{
 "cells": [
  {
   "cell_type": "markdown",
   "metadata": {},
   "source": [
    "# Introduction\n",
    "\n",
    "In this project, you will build a neural network of your own design to evaluate the MNIST dataset.\n",
    "\n",
    "Some of the benchmark results on MNIST include can be found [on Yann LeCun's page](http://yann.lecun.com/exdb/mnist/) and include:\n",
    "\n",
    "88% [Lecun et al., 1998](http://yann.lecun.com/exdb/publis/pdf/lecun-98.pdf)\n",
    "95.3% [Lecun et al., 1998](http://yann.lecun.com/exdb/publis/pdf/lecun-98.pdf)\n",
    "99.65% [Ciresan et al., 2011](http://people.idsia.ch/~juergen/ijcai2011.pdf)\n",
    "\n",
    "MNIST is a great dataset for sanity checking your models, since the accuracy levels achieved by large convolutional neural networks and small linear models are both quite high. This makes it important to be familiar with the data.\n",
    "\n",
    "## Imports"
   ]
  },
  {
   "cell_type": "code",
   "execution_count": 1,
   "metadata": {},
   "outputs": [],
   "source": [
    "# !pip install ipywidgets"
   ]
  },
  {
   "cell_type": "code",
   "execution_count": 2,
   "metadata": {},
   "outputs": [],
   "source": [
    "## This cell contains the essential imports you will need – DO NOT CHANGE THE CONTENTS! ##\n",
    "# NOTE: may need to restart kernel after install\n",
    "import torch\n",
    "import torch.nn as nn\n",
    "import torch.nn.functional as F\n",
    "import torch.optim as optim\n",
    "import torchvision\n",
    "import torchvision.transforms as transforms\n",
    "import torchvision.datasets as datasets\n",
    "from torch.utils.data import DataLoader\n",
    "import matplotlib.pyplot as plt\n",
    "import numpy as np\n",
    "# from ipywidgets import IntProgress"
   ]
  },
  {
   "cell_type": "code",
   "execution_count": 3,
   "metadata": {},
   "outputs": [
    {
     "name": "stdout",
     "output_type": "stream",
     "text": [
      "cpu\n"
     ]
    }
   ],
   "source": [
    "device = torch.device('cuda' if torch.cuda.is_available() else 'cpu')\n",
    "print(device)"
   ]
  },
  {
   "cell_type": "markdown",
   "metadata": {},
   "source": [
    "## Load the Dataset\n",
    "\n",
    "Specify your transforms as a list if you intend to .\n",
    "The transforms module is already loaded as `transforms`.\n",
    "\n",
    "MNIST is fortunately included in the torchvision module.\n",
    "Then, you can create your dataset using the `MNIST` object from `torchvision.datasets` ([the documentation is available here](https://pytorch.org/vision/stable/datasets.html#mnist)).\n",
    "Make sure to specify `download=True`! \n",
    "\n",
    "Once your dataset is created, you'll also need to define a `DataLoader` from the `torch.utils.data` module for both the train and the test set."
   ]
  },
  {
   "cell_type": "code",
   "execution_count": 4,
   "metadata": {},
   "outputs": [
    {
     "name": "stderr",
     "output_type": "stream",
     "text": [
      "/opt/conda/lib/python3.7/site-packages/torchvision/datasets/mnist.py:498: UserWarning: The given NumPy array is not writable, and PyTorch does not support non-writable tensors. This means writing to this tensor will result in undefined behavior. You may want to copy the array to protect its data or make it writable before converting it to a tensor. This type of warning will be suppressed for the rest of this program. (Triggered internally at  ../torch/csrc/utils/tensor_numpy.cpp:178.)\n",
      "  return torch.from_numpy(parsed.astype(m[2], copy=False)).view(*s)\n"
     ]
    }
   ],
   "source": [
    "# Define transforms\n",
    "transform = transforms.Compose([transforms.ToTensor(), transforms.Normalize((0.1307,), (0.3081,))])\n",
    "\n",
    "# Create training set and define training dataloader\n",
    "training_data = datasets.MNIST(root=\"data\", train=True, download=True, transform=transform)\n",
    "test_data = datasets.MNIST(root=\"data\", train=False, download=True, transform=transform)\n",
    "\n",
    "batch_size = 64\n",
    "# Create test set and define test dataloader\n",
    "train_loader = DataLoader(training_data, batch_size=batch_size, shuffle=True, drop_last=True)\n",
    "test_loader = DataLoader(test_data, batch_size=batch_size, shuffle=True, drop_last=True)\n"
   ]
  },
  {
   "cell_type": "markdown",
   "metadata": {},
   "source": [
    "## Justify your preprocessing\n",
    "\n",
    "In your own words, why did you choose the transforms you chose? If you didn't use any preprocessing steps, why not?"
   ]
  },
  {
   "cell_type": "markdown",
   "metadata": {},
   "source": [
    "Here use ToTensor() and Normalize() in the transforms. `ToTensor()` is to converts the image dataset into tensor for the following step to build neural network.`Normalize()` is to normalize the data which is usually beneficial for training the model.The values 0.1307 and 0.3081 used for the `Normalize()` transformation above are the global mean and standard deviation of the MNIST dataset, we'll take them as a given here."
   ]
  },
  {
   "cell_type": "markdown",
   "metadata": {},
   "source": [
    "## Explore the Dataset\n",
    "Using matplotlib, numpy, and torch, explore the dimensions of your data.\n",
    "\n",
    "You can view images using the `show5` function defined below – it takes a data loader as an argument.\n",
    "Remember that normalized images will look really weird to you! You may want to try changing your transforms to view images.\n",
    "Typically using no transforms other than `toTensor()` works well for viewing – but not as well for training your network.\n",
    "If `show5` doesn't work, go back and check your code for creating your data loaders and your training/test sets."
   ]
  },
  {
   "cell_type": "code",
   "execution_count": 5,
   "metadata": {},
   "outputs": [],
   "source": [
    "## This cell contains a function for showing 5 images from a dataloader – DO NOT CHANGE THE CONTENTS! ##\n",
    "def show5(img_loader):\n",
    "    dataiter = iter(img_loader)\n",
    "    \n",
    "    batch = next(dataiter)\n",
    "    labels = batch[1][0:5]\n",
    "    images = batch[0][0:5]\n",
    "    for i in range(5):\n",
    "        print(int(labels[i].detach()))\n",
    "    \n",
    "        image = images[i].numpy()\n",
    "        plt.imshow(image.T.squeeze().T)\n",
    "        plt.show()"
   ]
  },
  {
   "cell_type": "code",
   "execution_count": 6,
   "metadata": {},
   "outputs": [
    {
     "name": "stdout",
     "output_type": "stream",
     "text": [
      "1\n"
     ]
    },
    {
     "data": {
      "image/png": "[encoded data removed]",
      "text/plain": [
       "<Figure size 432x288 with 1 Axes>"
      ]
     },
     "metadata": {
      "needs_background": "light"
     },
     "output_type": "display_data"
    },
    {
     "name": "stdout",
     "output_type": "stream",
     "text": [
      "2\n"
     ]
    },
    {
     "data": {
      "image/png": "[encoded data removed]",
      "text/plain": [
       "<Figure size 432x288 with 1 Axes>"
      ]
     },
     "metadata": {
      "needs_background": "light"
     },
     "output_type": "display_data"
    },
    {
     "name": "stdout",
     "output_type": "stream",
     "text": [
      "5\n"
     ]
    },
    {
     "data": {
      "image/png": "[encoded data removed]",
      "text/plain": [
       "<Figure size 432x288 with 1 Axes>"
      ]
     },
     "metadata": {
      "needs_background": "light"
     },
     "output_type": "display_data"
    },
    {
     "name": "stdout",
     "output_type": "stream",
     "text": [
      "0\n"
     ]
    },
    {
     "data": {
      "image/png": "[encoded data removed]",
      "text/plain": [
       "<Figure size 432x288 with 1 Axes>"
      ]
     },
     "metadata": {
      "needs_background": "light"
     },
     "output_type": "display_data"
    },
    {
     "name": "stdout",
     "output_type": "stream",
     "text": [
      "0\n"
     ]
    },
    {
     "data": {
      "image/png": "[encoded data removed]",
      "text/plain": [
       "<Figure size 432x288 with 1 Axes>"
      ]
     },
     "metadata": {
      "needs_background": "light"
     },
     "output_type": "display_data"
    }
   ],
   "source": [
    "# Explore data\n",
    "show5(train_loader)"
   ]
  },
  {
   "cell_type": "markdown",
   "metadata": {},
   "source": [
    "## Build your Neural Network\n",
    "Using the layers in `torch.nn` (which has been imported as `nn`) and the `torch.nn.functional` module (imported as `F`), construct a neural network based on the parameters of the dataset.\n",
    "Use any architecture you like. \n",
    "\n",
    "*Note*: If you did not flatten your tensors in your transforms or as part of your preprocessing and you are using only `Linear` layers, make sure to use the `Flatten` layer in your network!"
   ]
  },
  {
   "cell_type": "markdown",
   "metadata": {},
   "source": [
    "The network will take input Tensor with dimeansion of 784(28*28), and generate the output Tensor with length of 10(number of class in dataset) that has score for each class. The network has 2 hiddenlayers with Relu as activation function\n"
   ]
  },
  {
   "cell_type": "code",
   "execution_count": 7,
   "metadata": {},
   "outputs": [
    {
     "name": "stdout",
     "output_type": "stream",
     "text": [
      "Net(\n",
      "  (layer1): Linear(in_features=784, out_features=120, bias=True)\n",
      "  (layer2): Linear(in_features=120, out_features=84, bias=True)\n",
      "  (layer3): Linear(in_features=84, out_features=10, bias=True)\n",
      ")\n"
     ]
    }
   ],
   "source": [
    "# Define the Network Architecture\n",
    "class Net(nn.Module):\n",
    "    def __init__(self):\n",
    "        super().__init__()\n",
    "        # activation function Relu\n",
    "        self.activation = F.relu\n",
    "        # linear layer (784 -> hidden layer1 120)\n",
    "        self.layer1 = nn.Linear(28*28, 120)\n",
    "        # linear layer (hidden layer1 120 -> hidden layer2 84)\n",
    "        self.layer2 = nn.Linear(120, 84)\n",
    "        # linear layer (hidden layer2 84 -> 10)\n",
    "        self.layer3 = nn.Linear(84, 10)\n",
    "\n",
    "    \n",
    "    def forward(self, x):\n",
    "        # flatten image input\n",
    "        x = torch.flatten(x, 1)\n",
    "        # add hidden layer, with relu activation function\n",
    "        x = self.activation(self.layer1(x))\n",
    "        # add hidden layer, with relu activation function\n",
    "        x = self.activation(self.layer2(x))\n",
    "        # add output layer\n",
    "        x = self.layer3(x)\n",
    "        return x\n",
    "\n",
    "# Instantiate the model\n",
    "net = Net()\n",
    "net.to(device)\n",
    "print(net)"
   ]
  },
  {
   "cell_type": "markdown",
   "metadata": {},
   "source": [
    "Specify a loss function and an optimizer, and instantiate the model.\n",
    "\n",
    "If you use a less common loss function, please note why you chose that loss function in a comment."
   ]
  },
  {
   "cell_type": "code",
   "execution_count": 8,
   "metadata": {},
   "outputs": [],
   "source": [
    "# specify optimizer (Adaptive Moment Estimation) and learning rate = 0.01\n",
    "optimizer = optim.Adam(net.parameters(), lr=0.01)\n",
    "\n",
    "# specify loss function (categorical cross-entropy)\n",
    "criterion = nn.CrossEntropyLoss()\n"
   ]
  },
  {
   "cell_type": "markdown",
   "metadata": {},
   "source": [
    "Here use Adam (Adaptive Moment Estimation) as optimizer. The learning rate does not vanish and convers quickly. The loss function use cross entropy. Cross-Entropy is one of the best ways to describe the difference between the prediction and the true labels."
   ]
  },
  {
   "cell_type": "markdown",
   "metadata": {},
   "source": [
    "## Running your Neural Network\n",
    "Use whatever method you like to train your neural network, and ensure you record the average loss at each epoch. \n",
    "Don't forget to use `torch.device()` and the `.to()` method for both your model and your data if you are using GPU!\n",
    "\n",
    "If you want to print your loss **during** each epoch, you can use the `enumerate` function and print the loss after a set number of batches. 250 batches works well for most people!"
   ]
  },
  {
   "cell_type": "markdown",
   "metadata": {},
   "source": [
    "Use the train DataLoader to train the neural network:\n",
    "\n",
    "- Zero out the gradients of the optimizer\n",
    "- Get the output of model and computer the loss\n",
    "- Compute the loss gradient using the backward method an dhave the optimizer take a step\n",
    "- Compute the accuracy"
   ]
  },
  {
   "cell_type": "code",
   "execution_count": 9,
   "metadata": {},
   "outputs": [
    {
     "name": "stdout",
     "output_type": "stream",
     "text": [
      "Epoch 1 training accuracy:  91.17% training loss:  0.00464\n",
      "Epoch 1 validation accuracy: 94.31% validation loss: 0.33014\n",
      "Epoch 2 training accuracy:  94.65% training loss:  0.00307\n",
      "Epoch 2 validation accuracy: 95.21% validation loss: 0.29497\n",
      "Epoch 3 training accuracy:  95.19% training loss:  0.00279\n",
      "Epoch 3 validation accuracy: 95.74% validation loss: 0.25402\n",
      "Epoch 4 training accuracy:  95.29% training loss:  0.00275\n",
      "Epoch 4 validation accuracy: 94.70% validation loss: 0.34500\n",
      "Epoch 5 training accuracy:  95.93% training loss:  0.00240\n",
      "Epoch 5 validation accuracy: 95.75% validation loss: 0.24850\n",
      "Epoch 6 training accuracy:  96.14% training loss:  0.00233\n",
      "Epoch 6 validation accuracy: 94.94% validation loss: 0.33317\n",
      "Epoch 7 training accuracy:  96.38% training loss:  0.00220\n",
      "Epoch 7 validation accuracy: 95.81% validation loss: 0.28601\n",
      "Epoch 8 training accuracy:  96.40% training loss:  0.00223\n",
      "Epoch 8 validation accuracy: 95.55% validation loss: 0.33745\n",
      "Epoch 9 training accuracy:  96.61% training loss:  0.00210\n",
      "Epoch 9 validation accuracy: 95.94% validation loss: 0.27392\n",
      "Epoch 10 training accuracy:  96.96% training loss:  0.00188\n",
      "Epoch 10 validation accuracy: 96.23% validation loss: 0.25658\n"
     ]
    }
   ],
   "source": [
    "num_epochs = 10\n",
    "\n",
    "# Establish a list for loss record\n",
    "train_loss_hist = list()\n",
    "val_loss_hist = list()\n",
    "\n",
    "for epoch in range(num_epochs):\n",
    "    \n",
    "    # prepare the model for training\n",
    "    net.train()\n",
    "    train_loss = 0.0\n",
    "    train_correct = 0\n",
    "    \n",
    "    for i, data in enumerate(train_loader):\n",
    "        # data is a list of [inputs, label]\n",
    "        inputs, labels = data\n",
    "        \n",
    "        # pass to GPU if available\n",
    "        if torch.cuda.is_available():\n",
    "            inputs, labels = inputs.to(device), labels.to(device)\n",
    "        \n",
    "        # zero out the gradients of the optimizer\n",
    "        optimizer.zero_grad()\n",
    "        \n",
    "        # forward pass: get the output of model and computer the loss\n",
    "        outputs = net(inputs)\n",
    "        loss = criterion(outputs, labels)\n",
    "        \n",
    "        # backward pass: compute the loss gradient using the backward method\n",
    "        loss.backward()\n",
    "        # have the optimizer take a step\n",
    "        optimizer.step()\n",
    "        \n",
    "        # compute the accuracy and print the accuracy and loss\n",
    "        _, preds = torch.max(outputs.data, 1)\n",
    "        train_correct += (preds == labels).sum().item()\n",
    "        train_loss += loss.item()\n",
    "    print(f'Epoch {epoch + 1} training accuracy: {100*train_correct/len(train_loader.dataset): .2f}% training loss: {train_loss/len(train_loader.dataset): .5f}')\n",
    "    train_loss_hist.append(train_loss/len(train_loader.dataset))\n",
    "    \n",
    "    # validation step\n",
    "    val_loss = 0.0\n",
    "    val_correct = 0\n",
    "    net.eval()\n",
    "    for inputs, labels in test_loader:\n",
    "        if torch.cuda.is_available():\n",
    "            inputs, labels = inputs.to(device), labels.to(device)\n",
    "        outputs = net(inputs)\n",
    "        loss = criterion(outputs, labels)\n",
    "\n",
    "        _, preds = torch.max(outputs.data, 1)\n",
    "        val_correct += (preds == labels).sum().item()\n",
    "        val_loss += loss.item()\n",
    "    print(f'Epoch {epoch + 1} validation accuracy: {100*val_correct/len(test_loader.dataset):.2f}% validation loss: {100*val_loss/len(test_loader.dataset):.5f}')\n",
    "    val_loss_hist.append(val_loss/len(test_loader.dataset))"
   ]
  },
  {
   "cell_type": "markdown",
   "metadata": {},
   "source": [
    "Plot the training loss (and validation loss/accuracy, if recorded)."
   ]
  },
  {
   "cell_type": "code",
   "execution_count": 10,
   "metadata": {},
   "outputs": [
    {
     "data": {
      "image/png": "[encoded data removed]",
      "text/plain": [
       "<Figure size 432x288 with 1 Axes>"
      ]
     },
     "metadata": {
      "needs_background": "light"
     },
     "output_type": "display_data"
    }
   ],
   "source": [
    "# Plot the trainning and validation \n",
    "plt.plot(train_loss_hist, label=\"Training Loss\")\n",
    "plt.plot(val_loss_hist, label=\"Validation Loss\")\n",
    "plt.legend()\n",
    "plt.show()"
   ]
  },
  {
   "cell_type": "markdown",
   "metadata": {},
   "source": [
    "## Testing your model\n",
    "Using the previously created `DataLoader` for the test set, compute the percentage of correct predictions using the highest probability prediction. \n",
    "\n",
    "If your accuracy is over 90%, great work, but see if you can push a bit further! \n",
    "If your accuracy is under 90%, you'll need to make improvements.\n",
    "Go back and check your model architecture, loss function, and optimizer to make sure they're appropriate for an image classification task."
   ]
  },
  {
   "cell_type": "code",
   "execution_count": 11,
   "metadata": {},
   "outputs": [
    {
     "name": "stdout",
     "output_type": "stream",
     "text": [
      "Test Loss: 0.16453\n",
      "Test Accuracy of 0:  98.57%\n",
      "Test Accuracy of 1:  97.89%\n",
      "Test Accuracy of 2:  94.48%\n",
      "Test Accuracy of 3:  97.33%\n",
      "Test Accuracy of 4:  96.02%\n",
      "Test Accuracy of 5:  95.17%\n",
      "Test Accuracy of 6:  97.07%\n",
      "Test Accuracy of 7:  96.97%\n",
      "Test Accuracy of 8:  95.99%\n",
      "Test Accuracy of 9:  94.14%\n",
      "Test Accuracy (Overall):  96.38%\n"
     ]
    }
   ],
   "source": [
    "# Test model\n",
    "test_loss = 0.0\n",
    "test_correct = list(0 for i in range(10))\n",
    "test_total = list(0 for i in range(10))\n",
    "\n",
    "# prepare the model for testing\n",
    "net.eval()\n",
    "\n",
    "for inputs, labels in test_loader:\n",
    "    # pass to GPU if available\n",
    "    if torch.cuda.is_available():\n",
    "        inputs, labels = inputs.to(device), labels.to(device)\n",
    "    \n",
    "    # compute the prediction \n",
    "    outputs = net(inputs)\n",
    "    loss = criterion(outputs, labels)\n",
    "\n",
    "    _, preds = torch.max(outputs.data, 1)\n",
    "    correct = preds == labels\n",
    "    for i in range(len(labels.data)):\n",
    "        label = labels.data[i].item()\n",
    "        test_correct[label] += correct[i]\n",
    "        test_total[label] += 1\n",
    "        \n",
    "    test_loss += loss.item()\n",
    "\n",
    "test_loss = test_loss/len(test_loader)\n",
    "print(f'Test Loss: {test_loss:.5f}')\n",
    "\n",
    "for i in range(10):\n",
    "    if test_total[i] > 0:\n",
    "        print(f'Test Accuracy of {str(i)}: {100*test_correct[i] / test_total[i]: .2f}%')\n",
    "    else:\n",
    "        print(f'Test Accuracy of {str(i)}:  N/A (no training examples')\n",
    "\n",
    "print(f'Test Accuracy (Overall): {100*np.sum(test_correct) / np.sum(test_total): .2f}%')\n"
   ]
  },
  {
   "cell_type": "markdown",
   "metadata": {},
   "source": [
    "## Improving your model\n",
    "\n",
    "Once your model is done training, try tweaking your hyperparameters and training again below to improve your accuracy on the test set!"
   ]
  },
  {
   "cell_type": "code",
   "execution_count": 13,
   "metadata": {},
   "outputs": [
    {
     "name": "stdout",
     "output_type": "stream",
     "text": [
      "Net(\n",
      "  (layer1): Linear(in_features=784, out_features=120, bias=True)\n",
      "  (layer2): Linear(in_features=120, out_features=84, bias=True)\n",
      "  (layer3): Linear(in_features=84, out_features=10, bias=True)\n",
      "  (dropout): Dropout(p=0.2, inplace=False)\n",
      ")\n"
     ]
    }
   ],
   "source": [
    "# Define the Network Architecture\n",
    "class Net(nn.Module):\n",
    "    def __init__(self):\n",
    "        super().__init__()\n",
    "        # activation function Relu\n",
    "        self.activation = F.relu\n",
    "        # linear layer (784 -> hidden layer1 120)\n",
    "        self.layer1 = nn.Linear(28*28, 120)\n",
    "        # linear layer (hidden layer1 120 -> hidden layer2 84)\n",
    "        self.layer2 = nn.Linear(120, 84)\n",
    "        # linear layer (hidden layer2 84 -> 10)\n",
    "        self.layer3 = nn.Linear(84, 10)\n",
    "        # dropout layer (p=0.2)\n",
    "        # dropout prevents overfitting of data\n",
    "        self.dropout = nn.Dropout(0.2)\n",
    "    \n",
    "    def forward(self, x):\n",
    "        # flatten image input\n",
    "        x = torch.flatten(x, 1)\n",
    "        # add hidden layer, with relu activation function\n",
    "        x = self.activation(self.layer1(x))\n",
    "        # add dropout layer\n",
    "        x = self.dropout(x)\n",
    "        # add hidden layer, with relu activation function\n",
    "        x = self.activation(self.layer2(x))\n",
    "        # add dropout layer\n",
    "        x = self.dropout(x)\n",
    "        # add output layer\n",
    "        x = self.layer3(x)\n",
    "        return x\n",
    "\n",
    "# Instantiate the model\n",
    "net = Net()\n",
    "net.to(device)\n",
    "print(net)"
   ]
  },
  {
   "cell_type": "code",
   "execution_count": 14,
   "metadata": {},
   "outputs": [],
   "source": [
    "# specify optimizer (Adaptive Moment Estimation) and learning rate = 0.01\n",
    "optimizer = optim.Adam(net.parameters(), lr=0.01)\n",
    "\n",
    "# specify loss function (categorical cross-entropy)\n",
    "criterion = nn.CrossEntropyLoss()\n"
   ]
  },
  {
   "cell_type": "code",
   "execution_count": 16,
   "metadata": {},
   "outputs": [
    {
     "name": "stdout",
     "output_type": "stream",
     "text": [
      "Epoch 1 training accuracy:  90.07% training loss:  0.00579\n",
      "Epoch 1 validation accuracy: 93.54% validation loss: 0.37555\n",
      "Epoch 2 training accuracy:  90.86% training loss:  0.00539\n",
      "Epoch 2 validation accuracy: 93.60% validation loss: 0.40174\n",
      "Epoch 3 training accuracy:  91.33% training loss:  0.00526\n",
      "Epoch 3 validation accuracy: 93.75% validation loss: 0.37793\n",
      "Epoch 4 training accuracy:  91.59% training loss:  0.00516\n",
      "Epoch 4 validation accuracy: 93.85% validation loss: 0.35676\n",
      "Epoch 5 training accuracy:  91.50% training loss:  0.00515\n",
      "Epoch 5 validation accuracy: 94.28% validation loss: 0.37610\n",
      "Epoch 6 training accuracy:  91.56% training loss:  0.00515\n",
      "Epoch 6 validation accuracy: 94.13% validation loss: 0.36980\n",
      "Epoch 7 training accuracy:  91.81% training loss:  0.00501\n",
      "Epoch 7 validation accuracy: 93.79% validation loss: 0.37680\n",
      "Epoch 8 training accuracy:  91.87% training loss:  0.00489\n",
      "Epoch 8 validation accuracy: 93.94% validation loss: 0.36697\n",
      "Epoch 9 training accuracy:  91.90% training loss:  0.00493\n",
      "Epoch 9 validation accuracy: 93.96% validation loss: 0.37710\n",
      "Epoch 10 training accuracy:  92.05% training loss:  0.00487\n",
      "Epoch 10 validation accuracy: 94.41% validation loss: 0.39737\n"
     ]
    }
   ],
   "source": [
    "num_epochs = 10\n",
    "\n",
    "# Establish a list for loss record\n",
    "train_loss_hist = list()\n",
    "val_loss_hist = list()\n",
    "\n",
    "for epoch in range(num_epochs):\n",
    "    \n",
    "    # prepare the model for training\n",
    "    net.train()\n",
    "    train_loss = 0.0\n",
    "    train_correct = 0\n",
    "    \n",
    "    for i, data in enumerate(train_loader):\n",
    "        # data is a list of [inputs, label]\n",
    "        inputs, labels = data\n",
    "        \n",
    "        # pass to GPU if available\n",
    "        if torch.cuda.is_available():\n",
    "            inputs, labels = inputs.to(device), labels.to(device)\n",
    "        \n",
    "        # zero out the gradients of the optimizer\n",
    "        optimizer.zero_grad()\n",
    "        \n",
    "        # forward pass: get the output of model and computer the loss\n",
    "        outputs = net(inputs)\n",
    "        loss = criterion(outputs, labels)\n",
    "        \n",
    "        # backward pass: compute the loss gradient using the backward method\n",
    "        loss.backward()\n",
    "        # have the optimizer take a step\n",
    "        optimizer.step()\n",
    "        \n",
    "        # compute the accuracy and print the accuracy and loss\n",
    "        _, preds = torch.max(outputs.data, 1)\n",
    "        train_correct += (preds == labels).sum().item()\n",
    "        train_loss += loss.item()\n",
    "    print(f'Epoch {epoch + 1} training accuracy: {100*train_correct/len(train_loader.dataset): .2f}% training loss: {train_loss/len(train_loader.dataset): .5f}')\n",
    "    train_loss_hist.append(train_loss/len(train_loader.dataset))\n",
    "    \n",
    "    # validation step\n",
    "    val_loss = 0.0\n",
    "    val_correct = 0\n",
    "    net.eval()\n",
    "    for inputs, labels in test_loader:\n",
    "        if torch.cuda.is_available():\n",
    "            inputs, labels = inputs.to(device), labels.to(device)\n",
    "        outputs = net(inputs)\n",
    "        loss = criterion(outputs, labels)\n",
    "\n",
    "        _, preds = torch.max(outputs.data, 1)\n",
    "        val_correct += (preds == labels).sum().item()\n",
    "        val_loss += loss.item()\n",
    "    print(f'Epoch {epoch + 1} validation accuracy: {100*val_correct/len(test_loader.dataset):.2f}% validation loss: {100*val_loss/len(test_loader.dataset):.5f}')\n",
    "    val_loss_hist.append(val_loss/len(test_loader.dataset))"
   ]
  },
  {
   "cell_type": "code",
   "execution_count": 18,
   "metadata": {},
   "outputs": [
    {
     "data": {
      "image/png": "[encoded data removed]",
      "text/plain": [
       "<Figure size 432x288 with 1 Axes>"
      ]
     },
     "metadata": {
      "needs_background": "light"
     },
     "output_type": "display_data"
    }
   ],
   "source": [
    "# Plot the trainning and validation \n",
    "plt.plot(train_loss_hist, label=\"Training Loss\")\n",
    "plt.plot(val_loss_hist, label=\"Validation Loss\")\n",
    "plt.legend()\n",
    "plt.show()"
   ]
  },
  {
   "cell_type": "code",
   "execution_count": 17,
   "metadata": {},
   "outputs": [
    {
     "name": "stdout",
     "output_type": "stream",
     "text": [
      "Test Loss: 0.25471\n",
      "Test Accuracy of 0:  97.75%\n",
      "Test Accuracy of 1:  97.26%\n",
      "Test Accuracy of 2:  94.28%\n",
      "Test Accuracy of 3:  93.26%\n",
      "Test Accuracy of 4:  93.15%\n",
      "Test Accuracy of 5:  93.60%\n",
      "Test Accuracy of 6:  96.35%\n",
      "Test Accuracy of 7:  92.32%\n",
      "Test Accuracy of 8:  95.06%\n",
      "Test Accuracy of 9:  92.35%\n",
      "Test Accuracy (Overall):  94.56%\n"
     ]
    }
   ],
   "source": [
    "# Test model\n",
    "test_loss = 0.0\n",
    "test_correct = list(0 for i in range(10))\n",
    "test_total = list(0 for i in range(10))\n",
    "\n",
    "# prepare the model for testing\n",
    "net.eval()\n",
    "\n",
    "for inputs, labels in test_loader:\n",
    "    # pass to GPU if available\n",
    "    if torch.cuda.is_available():\n",
    "        inputs, labels = inputs.to(device), labels.to(device)\n",
    "    \n",
    "    # compute the prediction \n",
    "    outputs = net(inputs)\n",
    "    loss = criterion(outputs, labels)\n",
    "\n",
    "    _, preds = torch.max(outputs.data, 1)\n",
    "    correct = preds == labels\n",
    "    for i in range(len(labels.data)):\n",
    "        label = labels.data[i].item()\n",
    "        test_correct[label] += correct[i]\n",
    "        test_total[label] += 1\n",
    "        \n",
    "    test_loss += loss.item()\n",
    "\n",
    "test_loss = test_loss/len(test_loader)\n",
    "print(f'Test Loss: {test_loss:.5f}')\n",
    "\n",
    "for i in range(10):\n",
    "    if test_total[i] > 0:\n",
    "        print(f'Test Accuracy of {str(i)}: {100*test_correct[i] / test_total[i]: .2f}%')\n",
    "    else:\n",
    "        print(f'Test Accuracy of {str(i)}:  N/A (no training examples')\n",
    "\n",
    "print(f'Test Accuracy (Overall): {100*np.sum(test_correct) / np.sum(test_total): .2f}%')\n"
   ]
  },
  {
   "cell_type": "markdown",
   "metadata": {},
   "source": [
    "## Saving your model\n",
    "Using `torch.save`, save your model for future loading."
   ]
  },
  {
   "cell_type": "code",
   "execution_count": 20,
   "metadata": {},
   "outputs": [],
   "source": [
    "# Save the model\n",
    "torch.save(net, 'mnist_classifier.pt')"
   ]
  },
  {
   "cell_type": "code",
   "execution_count": null,
   "metadata": {},
   "outputs": [],
   "source": []
  }
 ],
 "metadata": {
  "kernelspec": {
   "display_name": "Python 3",
   "language": "python",
   "name": "python3"
  },
  "language_info": {
   "codemirror_mode": {
    "name": "ipython",
    "version": 3
   },
   "file_extension": ".py",
   "mimetype": "text/x-python",
   "name": "python",
   "nbconvert_exporter": "python",
   "pygments_lexer": "ipython3",
   "version": "3.7.6"
  }
 },
 "nbformat": 4,
 "nbformat_minor": 4
}
